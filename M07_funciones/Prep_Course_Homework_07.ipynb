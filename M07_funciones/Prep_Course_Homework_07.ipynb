{
 "cells": [
  {
   "attachments": {},
   "cell_type": "markdown",
   "metadata": {},
   "source": [
    "## Funciones"
   ]
  },
  {
   "attachments": {},
   "cell_type": "markdown",
   "metadata": {},
   "source": [
    "1) Crear una función que reciba un número como parámetro y devuelva True si es primo y False si no lo es"
   ]
  },
  {
   "cell_type": "code",
   "execution_count": 22,
   "metadata": {},
   "outputs": [],
   "source": [
    "def primos(n):\n",
    "    es_primo = True\n",
    "    for i in range (2,n):\n",
    "        if n % i == 0:\n",
    "            es_primo = False\n",
    "            break\n",
    "    return(es_primo)"
   ]
  },
  {
   "attachments": {},
   "cell_type": "markdown",
   "metadata": {},
   "source": [
    "2) Utilizando la función del punto 1, realizar otra función que reciba de parámetro una lista de números y devuelva sólo aquellos que son primos en otra lista"
   ]
  },
  {
   "cell_type": "code",
   "execution_count": 20,
   "metadata": {},
   "outputs": [],
   "source": [
    "def extraccion_lista(lista):\n",
    "    lista_primos = []\n",
    "    for elemento in lista:\n",
    "        if primos(int(elemento)):\n",
    "            lista_primos.append(elemento)\n",
    "    return(lista_primos)"
   ]
  },
  {
   "cell_type": "code",
   "execution_count": 24,
   "metadata": {},
   "outputs": [
    {
     "data": {
      "text/plain": [
       "[0, 1, 2, 3, 5, 7, 11, 13, 17, 19, 23, 29]"
      ]
     },
     "execution_count": 24,
     "metadata": {},
     "output_type": "execute_result"
    }
   ],
   "source": [
    "lista_completa = []\n",
    "for i in range (0,30):\n",
    "    lista_completa.append(i)\n",
    "lista_numeros_primos = extraccion_lista(lista_completa)\n",
    "lista_numeros_primos"
   ]
  },
  {
   "attachments": {},
   "cell_type": "markdown",
   "metadata": {},
   "source": [
    "3) Crear una función que al recibir una lista de números, devuelva el que más se repite y cuántas veces lo hace. Si hay más de un \"más repetido\", que devuelva cualquiera"
   ]
  },
  {
   "cell_type": "code",
   "execution_count": 38,
   "metadata": {},
   "outputs": [],
   "source": [
    "def valor_modal(lista):\n",
    "    if len(lista) == 0:\n",
    "        return(None)\n",
    "    lista_unicos = []\n",
    "    lista_repeticiones = []\n",
    "    #declaramos las dos listas, una extraera los valores unicos de la lista principal, y la otra las veces que se repiten\n",
    "    for elemento in lista:\n",
    "        if elemento in (lista_unicos):\n",
    "            i = lista_unicos.index(elemento)\n",
    "            lista_repeticiones[i] += 1\n",
    "        else:\n",
    "            lista_unicos.append(elemento)\n",
    "            lista_repeticiones.append(1)\n",
    "    moda = lista_unicos[0]\n",
    "    maximo = lista_repeticiones[0]\n",
    "    for i, elemento in enumerate(lista_unicos):\n",
    "        if lista_repeticiones[i] > maximo:\n",
    "            moda = lista_unicos[i]\n",
    "            maximo = lista_repeticiones[i]\n",
    "    return(moda,maximo)"
   ]
  },
  {
   "cell_type": "code",
   "execution_count": 45,
   "metadata": {},
   "outputs": [
    {
     "data": {
      "text/plain": [
       "(4, 4)"
      ]
     },
     "execution_count": 45,
     "metadata": {},
     "output_type": "execute_result"
    }
   ],
   "source": [
    "lista_numeros = [1,2,3,4,4,4,4,5,6,7,8,9]\n",
    "valor_modal(lista_numeros)"
   ]
  },
  {
   "attachments": {},
   "cell_type": "markdown",
   "metadata": {},
   "source": [
    "4) Crear una función que convierta entre grados Celsius, Farenheit y Kelvin<br>\n",
    "Fórmula 1\t: (°C × 9/5) + 32 = °F<br>\n",
    "Fórmula 2\t: °C + 273.15 = °K<br>\n",
    "Debe recibir 3 parámetros: el valor, la medida de orígen y la medida de destino\n"
   ]
  },
  {
   "cell_type": "code",
   "execution_count": 50,
   "metadata": {},
   "outputs": [],
   "source": [
    "def conversion_temperatura(valor,medida_de_origen,medida_de_destino):\n",
    "    if medida_de_origen == 'C':\n",
    "        if medida_de_destino == 'K':\n",
    "            valor_final = valor + 273.15\n",
    "        elif medida_de_destino == 'F':\n",
    "            valor_final = (valor * 9/5) + 32\n",
    "        else:\n",
    "            valor_final = valor\n",
    "    elif medida_de_origen == 'F':\n",
    "        if medida_de_destino == 'K':\n",
    "            valor_final = ((valor - 32) * 5/9) + 273.15\n",
    "        elif  medida_de_destino == 'C':\n",
    "            valor_final = (valor - 32) * 5/9\n",
    "        else:\n",
    "            valor_final = valor\n",
    "    \n",
    "    elif medida_de_origen == 'K':\n",
    "        if medida_de_destino == 'C':\n",
    "            valor_final = valor -273.15\n",
    "        elif medida_de_destino == 'F':\n",
    "            valor_final = ((valor - 273.15) * 9/5) + 32\n",
    "        else:\n",
    "            valor_final = valor\n",
    "    else:\n",
    "        print(\"parametro de origen incorrecto\")\n",
    "    return(valor_final)"
   ]
  },
  {
   "cell_type": "code",
   "execution_count": 51,
   "metadata": {},
   "outputs": [
    {
     "name": "stdout",
     "output_type": "stream",
     "text": [
      "1 grado Celsius a Celsius: 1\n",
      "1 grado Celsius a Kelvin: 274.15\n",
      "1 grado Celsius a Farenheit: 33.8\n",
      "1 grado Kelvin a Celsius: -272.15\n",
      "1 grado Kelvin a Kelvin: 1\n",
      "1 grado Kelvin a Farenheit: -457.87\n",
      "1 grado Farenheit a Celsius: -17.22222222222222\n",
      "1 grado Farenheit a Kelvin: 255.92777777777775\n",
      "1 grado Farenheit a Farenheit: 1\n"
     ]
    }
   ],
   "source": [
    "print('1 grado Celsius a Celsius:', conversion_temperatura(1, 'C', 'C'))\n",
    "print('1 grado Celsius a Kelvin:', conversion_temperatura(1, 'C', 'K'))\n",
    "print('1 grado Celsius a Farenheit:', conversion_temperatura(1, 'C', 'F'))\n",
    "print('1 grado Kelvin a Celsius:', conversion_temperatura(1, 'K', 'C'))\n",
    "print('1 grado Kelvin a Kelvin:', conversion_temperatura(1, 'K', 'K'))\n",
    "print('1 grado Kelvin a Farenheit:', conversion_temperatura(1, 'K', 'F'))\n",
    "print('1 grado Farenheit a Celsius:', conversion_temperatura(1, 'F', 'C'))\n",
    "print('1 grado Farenheit a Kelvin:', conversion_temperatura(1, 'F', 'K'))\n",
    "print('1 grado Farenheit a Farenheit:', conversion_temperatura(1, 'F', 'F'))"
   ]
  },
  {
   "attachments": {},
   "cell_type": "markdown",
   "metadata": {},
   "source": [
    "5) Iterando una lista con los tres valores posibles de temperatura que recibe la función del punto 5, hacer un print para cada combinación de los mismos:"
   ]
  },
  {
   "cell_type": "code",
   "execution_count": 53,
   "metadata": {},
   "outputs": [
    {
     "name": "stdout",
     "output_type": "stream",
     "text": [
      "1 grado C a C 1\n",
      "1 grado C a F 33.8\n",
      "1 grado C a K 274.15\n",
      "1 grado F a C -17.22222222222222\n",
      "1 grado F a F 1\n",
      "1 grado F a K 255.92777777777775\n",
      "1 grado K a C -272.15\n",
      "1 grado K a F -457.87\n",
      "1 grado K a K 1\n"
     ]
    }
   ],
   "source": [
    "unidades = ['C','F','K']\n",
    "\n",
    "for i in range (0,3):\n",
    "    for j in range(0,3):\n",
    "        print('1 grado',unidades[i],'a',unidades[j],conversion_temperatura(1,unidades[i],unidades[j]))"
   ]
  },
  {
   "attachments": {},
   "cell_type": "markdown",
   "metadata": {},
   "source": [
    "6) Armar una función que devuelva el factorial de un número. Tener en cuenta que el usuario puede equivocarse y enviar de parámetro un número no entero o negativo"
   ]
  },
  {
   "cell_type": "code",
   "execution_count": 61,
   "metadata": {},
   "outputs": [],
   "source": [
    "def factorial(numero):\n",
    "    if type(numero) != int:\n",
    "        return(\"el numero debe ser entero\")\n",
    "    if numero <= 0:\n",
    "        return(\"el numero debe ser positivo\")\n",
    "    if numero == 1:\n",
    "        return(1)\n",
    "    if numero > 1:\n",
    "        numero = numero * factorial(numero - 1)\n",
    "    return(numero)"
   ]
  },
  {
   "cell_type": "code",
   "execution_count": 65,
   "metadata": {},
   "outputs": [
    {
     "data": {
      "text/plain": [
       "40320"
      ]
     },
     "execution_count": 65,
     "metadata": {},
     "output_type": "execute_result"
    }
   ],
   "source": [
    "factorial(8)"
   ]
  }
 ],
 "metadata": {
  "interpreter": {
   "hash": "c85384e4cb51c8b72350f3a8712cc8351fdc3955e32a27f9b60c6242ab125f01"
  },
  "kernelspec": {
   "display_name": "Python 3 (ipykernel)",
   "language": "python",
   "name": "python3"
  },
  "language_info": {
   "codemirror_mode": {
    "name": "ipython",
    "version": 3
   },
   "file_extension": ".py",
   "mimetype": "text/x-python",
   "name": "python",
   "nbconvert_exporter": "python",
   "pygments_lexer": "ipython3",
   "version": "3.11.4"
  }
 },
 "nbformat": 4,
 "nbformat_minor": 4
}
