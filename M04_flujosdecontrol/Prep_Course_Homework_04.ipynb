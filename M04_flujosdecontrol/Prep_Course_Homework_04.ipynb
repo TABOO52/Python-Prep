{
 "cells": [
  {
   "attachments": {},
   "cell_type": "markdown",
   "metadata": {},
   "source": [
    "## Flujos de Control"
   ]
  },
  {
   "attachments": {},
   "cell_type": "markdown",
   "metadata": {},
   "source": [
    "1) Crear una variable que contenga un elemento del conjunto de números enteros y luego imprimir por pantalla si es mayor o menor a cero"
   ]
  },
  {
   "cell_type": "code",
   "execution_count": 113,
   "metadata": {},
   "outputs": [
    {
     "name": "stdout",
     "output_type": "stream",
     "text": [
      "El numero es cero\n"
     ]
    }
   ],
   "source": [
    "a = 0\n",
    "if a>0:\n",
    "    print('El numero es positivo')\n",
    "elif a==0:\n",
    "    print('El numero es cero')\n",
    "else:\n",
    "    print(\"El numero es negativo\")"
   ]
  },
  {
   "attachments": {},
   "cell_type": "markdown",
   "metadata": {},
   "source": [
    "2) Crear dos variables y un condicional que informe si son del mismo tipo de dato"
   ]
  },
  {
   "cell_type": "code",
   "execution_count": 111,
   "metadata": {},
   "outputs": [
    {
     "name": "stdout",
     "output_type": "stream",
     "text": [
      "Las variables son de diferente tipo\n"
     ]
    }
   ],
   "source": [
    "a = 7\n",
    "b = '7'\n",
    "if type(a)==type(b):\n",
    "    print('Las variables son del mismo tipo')\n",
    "else:\n",
    "    print('Las variables son de diferente tipo')\n"
   ]
  },
  {
   "attachments": {},
   "cell_type": "markdown",
   "metadata": {},
   "source": [
    "3) Para los valores enteros del 1 al 20, imprimir por pantalla si es par o impar"
   ]
  },
  {
   "cell_type": "code",
   "execution_count": 11,
   "metadata": {},
   "outputs": [
    {
     "name": "stdout",
     "output_type": "stream",
     "text": [
      "0 :El numero es par\n",
      "1 :El numero es impar\n",
      "2 :El numero es par\n",
      "3 :El numero es impar\n",
      "4 :El numero es par\n",
      "5 :El numero es impar\n",
      "6 :El numero es par\n",
      "7 :El numero es impar\n",
      "8 :El numero es par\n",
      "9 :El numero es impar\n",
      "10 :El numero es par\n",
      "11 :El numero es impar\n",
      "12 :El numero es par\n",
      "13 :El numero es impar\n",
      "14 :El numero es par\n",
      "15 :El numero es impar\n",
      "16 :El numero es par\n",
      "17 :El numero es impar\n",
      "18 :El numero es par\n",
      "19 :El numero es impar\n",
      "20 :El numero es par\n"
     ]
    }
   ],
   "source": [
    "x = 0\n",
    "while x <21:\n",
    "    x\n",
    "    if (x%2)==0:\n",
    "        print(x,':El numero es par')\n",
    "    elif (x%2)==1:\n",
    "        print(x,':El numero es impar')\n",
    "    x = x+1"
   ]
  },
  {
   "attachments": {},
   "cell_type": "markdown",
   "metadata": {},
   "source": [
    "4) En un ciclo for mostrar para los valores entre 0 y 5 el resultado de elevarlo a la potencia igual a 3"
   ]
  },
  {
   "cell_type": "code",
   "execution_count": 108,
   "metadata": {},
   "outputs": [
    {
     "name": "stdout",
     "output_type": "stream",
     "text": [
      "La potencia cubica de 0 es 0\n",
      "La potencia cubica de 1 es 1\n",
      "La potencia cubica de 2 es 8\n",
      "La potencia cubica de 3 es 27\n",
      "La potencia cubica de 4 es 64\n",
      "La potencia cubica de 5 es 125\n"
     ]
    }
   ],
   "source": [
    "for i in range(0,6):\n",
    "    potencia = i**3\n",
    "    print(\"La potencia cubica de\",i,\"es\",potencia)"
   ]
  },
  {
   "attachments": {},
   "cell_type": "markdown",
   "metadata": {},
   "source": [
    "5) Crear una variable que contenga un número entero y realizar un ciclo for la misma cantidad de ciclos"
   ]
  },
  {
   "cell_type": "code",
   "execution_count": 106,
   "metadata": {},
   "outputs": [
    {
     "name": "stdout",
     "output_type": "stream",
     "text": [
      "ciclos totales 10\n"
     ]
    }
   ],
   "source": [
    "n=10\n",
    "for i in range(1,(n+1)):\n",
    "    pass\n",
    "print(\"ciclos totales\",i)"
   ]
  },
  {
   "attachments": {},
   "cell_type": "markdown",
   "metadata": {},
   "source": [
    "6) Utilizar un ciclo while para realizar el factorial de un número guardado en una variable, sólo si la variable contiene un número entero mayor a 0"
   ]
  },
  {
   "cell_type": "code",
   "execution_count": 92,
   "metadata": {},
   "outputs": [
    {
     "name": "stdout",
     "output_type": "stream",
     "text": [
      "El factorial de 5 es: 120\n"
     ]
    }
   ],
   "source": [
    "i = 5\n",
    "n = i\n",
    "if  (n>0):\n",
    "    f=n\n",
    "    while (n>2):\n",
    "        n-=1\n",
    "        f=f*n\n",
    "    print(\"El factorial de\",i,\"es:\",f)\n",
    "elif (n==0):\n",
    "    f=1\n",
    "    print(\"El factorial de\",i,\"es:\",f)\n",
    "else:\n",
    "    print(\"El numero ingresado es negativo, no se puede calcular el factorial\")"
   ]
  },
  {
   "attachments": {},
   "cell_type": "markdown",
   "metadata": {},
   "source": [
    "7) Crear un ciclo for dentro de un ciclo while"
   ]
  },
  {
   "cell_type": "code",
   "execution_count": 99,
   "metadata": {},
   "outputs": [
    {
     "name": "stdout",
     "output_type": "stream",
     "text": [
      "while: 1\n",
      "for: 1\n",
      "for: 2\n",
      "for: 3\n",
      "for: 4\n",
      "while: 2\n",
      "for: 1\n",
      "for: 2\n",
      "for: 3\n",
      "for: 4\n",
      "while: 3\n",
      "for: 1\n",
      "for: 2\n",
      "for: 3\n",
      "for: 4\n",
      "while: 4\n",
      "for: 1\n",
      "for: 2\n",
      "for: 3\n",
      "for: 4\n"
     ]
    }
   ],
   "source": [
    "y=1\n",
    "x=y\n",
    "reps=4\n",
    "while x<=reps:\n",
    "    print(\"while:\",x)\n",
    "    for i in range(y,(reps+1)):\n",
    "        print(\"for:\",i)\n",
    "    x+=1"
   ]
  },
  {
   "attachments": {},
   "cell_type": "markdown",
   "metadata": {},
   "source": [
    "8) Crear un ciclo while dentro de un ciclo for"
   ]
  },
  {
   "cell_type": "code",
   "execution_count": 129,
   "metadata": {},
   "outputs": [
    {
     "name": "stdout",
     "output_type": "stream",
     "text": [
      "For 1\n",
      "While 1\n",
      "While 2\n",
      "While 3\n",
      "While 4\n",
      "For 2\n",
      "While 1\n",
      "While 2\n",
      "While 3\n",
      "While 4\n",
      "For 3\n",
      "While 1\n",
      "While 2\n",
      "While 3\n",
      "While 4\n",
      "For 4\n",
      "While 1\n",
      "While 2\n",
      "While 3\n",
      "While 4\n"
     ]
    }
   ],
   "source": [
    "x=1\n",
    "reps=4\n",
    "for i in range(x,(reps+1)):\n",
    "    print(\"For\",i)\n",
    "    y=1\n",
    "    while y<=reps:\n",
    "        print(\"While\",y)\n",
    "        y+=1        \n",
    "\n",
    "        "
   ]
  },
  {
   "attachments": {},
   "cell_type": "markdown",
   "metadata": {},
   "source": [
    "9) Imprimir los números primos existentes entre 0 y 30"
   ]
  },
  {
   "cell_type": "code",
   "execution_count": 1,
   "metadata": {},
   "outputs": [
    {
     "name": "stdout",
     "output_type": "stream",
     "text": [
      "2\n",
      "3\n",
      "5\n",
      "7\n",
      "11\n",
      "13\n",
      "17\n",
      "19\n",
      "23\n",
      "29\n",
      "La cantidad de ciclos usada en este codigo fue de 52\n"
     ]
    }
   ],
   "source": [
    "ciclos=0\n",
    "n = 2\n",
    "while n <= 30:\n",
    "    contador = 2\n",
    "    es_primo = True\n",
    "\n",
    "    while contador < n:\n",
    "        if n % contador == 0:\n",
    "            es_primo = False\n",
    "            ciclos += 1\n",
    "        contador += 1\n",
    "    if es_primo: #En phyton no se utiliza el ==True, con solo poner la variable boolena despues de la condicion si, estoy preguntando si es verdadero\n",
    "        print(n)\n",
    "    n+=1\n",
    "print(\"La cantidad de ciclos usada en este codigo fue de \"+str(ciclos))"
   ]
  },
  {
   "attachments": {},
   "cell_type": "markdown",
   "metadata": {},
   "source": [
    "10) ¿Se puede mejorar el proceso del punto 9? Utilizar las sentencias break y/ó continue para tal fin"
   ]
  },
  {
   "cell_type": "code",
   "execution_count": 3,
   "metadata": {},
   "outputs": [
    {
     "name": "stdout",
     "output_type": "stream",
     "text": [
      "2\n",
      "3\n",
      "5\n",
      "7\n",
      "11\n",
      "13\n",
      "17\n",
      "19\n",
      "23\n",
      "29\n",
      "La cantidad de ciclos usada en este codigo fue de 19\n"
     ]
    }
   ],
   "source": [
    "ciclos=0\n",
    "n = 2\n",
    "while n <= 30:\n",
    "    contador = 2\n",
    "    es_primo = True\n",
    "\n",
    "    while contador < n:\n",
    "        if n % contador == 0:\n",
    "            ciclos += 1\n",
    "            es_primo = False\n",
    "            break\n",
    "        contador += 1\n",
    "    if es_primo: #En phyton no se utiliza el ==True, con solo poner la variable boolena despues de la condicion si, estoy preguntando si es verdadero\n",
    "        print(n)\n",
    "    n+=1\n",
    "print(\"La cantidad de ciclos usada en este codigo fue de \"+str(ciclos))\n"
   ]
  },
  {
   "attachments": {},
   "cell_type": "markdown",
   "metadata": {},
   "source": [
    "11) En los puntos 9 y 10, se diseño un código que encuentra números primos y además se lo optimizó. ¿Es posible saber en qué medida se optimizó?"
   ]
  },
  {
   "cell_type": "code",
   "execution_count": 48,
   "metadata": {},
   "outputs": [
    {
     "name": "stdout",
     "output_type": "stream",
     "text": [
      "la cantidad de ciclos del primero codigo fue de 52\n",
      "la cantidad de ciclos del segundo codigo fue de 19\n",
      "La optimización clave aquí es el uso de break en el bucle interno cuando se encuentra un divisor. Esto permite salir del bucle interno tan pronto como se confirma que el número no es primo, reduciendo así el número de ciclos necesarios.\n"
     ]
    }
   ],
   "source": [
    "print(\"la cantidad de ciclos del primero codigo fue de 52\")\n",
    "print(\"la cantidad de ciclos del segundo codigo fue de 19\")\n",
    "print(\"La optimización clave aquí es el uso de break en el bucle interno cuando se encuentra un divisor. Esto permite salir del bucle interno tan pronto como se confirma que el número no es primo, reduciendo así el número de ciclos necesarios.\")\n"
   ]
  },
  {
   "attachments": {},
   "cell_type": "markdown",
   "metadata": {},
   "source": [
    "12) Aplicando continue, armar un ciclo while que solo imprima los valores divisibles por 12, dentro del rango de números de 100 a 300"
   ]
  },
  {
   "cell_type": "code",
   "execution_count": 58,
   "metadata": {},
   "outputs": [
    {
     "name": "stdout",
     "output_type": "stream",
     "text": [
      "108\n",
      "120\n",
      "132\n",
      "144\n",
      "156\n",
      "168\n",
      "180\n",
      "192\n",
      "204\n",
      "216\n",
      "228\n",
      "240\n",
      "252\n",
      "264\n",
      "276\n",
      "288\n",
      "300\n"
     ]
    }
   ],
   "source": [
    "n = 99\n",
    "while n <= 300:\n",
    "    n += 1\n",
    "    divisor = 12\n",
    "    es_divisible = True\n",
    "    if n % divisor != 0:\n",
    "        es_divisible = False\n",
    "        continue\n",
    "    if es_divisible:\n",
    "        print(n)"
   ]
  },
  {
   "attachments": {},
   "cell_type": "markdown",
   "metadata": {},
   "source": [
    "13) Utilizar la función **input()** que permite hacer ingresos por teclado, para encontrar números primos y dar la opción al usario de buscar el siguiente"
   ]
  },
  {
   "cell_type": "code",
   "execution_count": 76,
   "metadata": {},
   "outputs": [
    {
     "name": "stdout",
     "output_type": "stream",
     "text": [
      "2\n",
      "Desea encontrar el siguiente numero?\n",
      "3\n",
      "Desea encontrar el siguiente numero?\n",
      "5\n",
      "Desea encontrar el siguiente numero?\n",
      "7\n",
      "Desea encontrar el siguiente numero?\n",
      "11\n",
      "Desea encontrar el siguiente numero?\n",
      "13\n",
      "Desea encontrar el siguiente numero?\n",
      "17\n",
      "Desea encontrar el siguiente numero?\n",
      "19\n",
      "Desea encontrar el siguiente numero?\n",
      "23\n",
      "Desea encontrar el siguiente numero?\n",
      "29\n",
      "Desea encontrar el siguiente numero?\n",
      "Se finaliza el proceso\n"
     ]
    }
   ],
   "source": [
    "n = 2\n",
    "while True:\n",
    "    contador = 2\n",
    "    es_primo = True\n",
    "    while contador < n:\n",
    "        if n % contador == 0:\n",
    "            es_primo = False\n",
    "            break\n",
    "        contador += 1\n",
    "    if es_primo:\n",
    "        print(n)\n",
    "        print(\"Desea encontrar el siguiente numero?\")\n",
    "        if input() != str(\"si\"):\n",
    "            print(\"Se finaliza el proceso\")\n",
    "            break\n",
    "    n += 1"
   ]
  },
  {
   "attachments": {},
   "cell_type": "markdown",
   "metadata": {},
   "source": [
    "14) Crear un ciclo while que encuentre dentro del rango de 100 a 300 el primer número divisible por 3 y además múltiplo de 6"
   ]
  },
  {
   "cell_type": "code",
   "execution_count": 81,
   "metadata": {},
   "outputs": [
    {
     "name": "stdout",
     "output_type": "stream",
     "text": [
      "102\n"
     ]
    }
   ],
   "source": [
    "n = 99\n",
    "while n < 300:\n",
    "    n += 1\n",
    "    es_divisible = True\n",
    "    if n % 6 != 0:\n",
    "        es_divisible = False\n",
    "        continue\n",
    "    if es_divisible:\n",
    "        print(n)\n",
    "        break\n",
    "   \n"
   ]
  }
 ],
 "metadata": {
  "interpreter": {
   "hash": "c85384e4cb51c8b72350f3a8712cc8351fdc3955e32a27f9b60c6242ab125f01"
  },
  "kernelspec": {
   "display_name": "Python 3 (ipykernel)",
   "language": "python",
   "name": "python3"
  },
  "language_info": {
   "codemirror_mode": {
    "name": "ipython",
    "version": 3
   },
   "file_extension": ".py",
   "mimetype": "text/x-python",
   "name": "python",
   "nbconvert_exporter": "python",
   "pygments_lexer": "ipython3",
   "version": "3.11.4"
  }
 },
 "nbformat": 4,
 "nbformat_minor": 4
}
